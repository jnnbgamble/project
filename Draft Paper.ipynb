{
 "cells": [
  {
   "cell_type": "markdown",
   "metadata": {},
   "source": [
    "# Draft Paper - Jennings Gamble"
   ]
  },
  {
   "cell_type": "code",
   "execution_count": 11,
   "metadata": {
    "collapsed": true
   },
   "outputs": [],
   "source": [
    "import requests \n",
    "import pandas as pd "
   ]
  },
  {
   "cell_type": "markdown",
   "metadata": {},
   "source": [
    "**Problem statement and hypothesis**\n",
    "\n",
    "The idea of this project is to predict an amount of money that a lobbying firm pays to get a piece of legislation passed by industry. My hypothesis is that certain industries will require much more funding over a much broader selection of committees than others. For instance, the tobacco industry may have to lobby much harder than the telecommunications industry. I would like to arrive at a dollar figure that gives X% likelihood that the bill will pass. "
   ]
  },
  {
   "cell_type": "markdown",
   "metadata": {},
   "source": [
    "**Description of dataset and how it was obtained**\n",
    "\n",
    "The dataset has been cobbled together from a couple of different sources: \n",
    "1. OpenSecrets- this is my source of lobbyist dollars. \n",
    "2. GovTrack- this is my source for congressional voting data. \n",
    "3. Congress Bio Guide- this is my source of information for the terms and jobs of congress people. "
   ]
  },
  {
   "cell_type": "markdown",
   "metadata": {},
   "source": [
    "**Description of pre-processing**\n",
    "\n",
    "Preprocessing isn't necessary for a lot of the data gathered via API. But there are bulk tables that I'm using for a lot of lobbying dollar totals back from 1998. One of the issues pulling information from these tables is the non-traditional delimiters. Because we're using official names for congresspeople, there are periods and commas in the different fields. So columns are separated by '|,|'. This can be tough to work around since many of the methods we have for pulling information from CSVs or JSON don't accept regex separators. "
   ]
  },
  {
   "cell_type": "markdown",
   "metadata": {},
   "source": [
    "**Details learned from exploring the data**\n",
    "\n",
    "OpenSecrets has an API that allows a user to make a number of different calls into the OpenSecrets database. First I investigated the `congCmteIndus` method, which pulls summary fundraising information by committee, industry, and congress number. \n",
    "\n",
    "In order to make calls using this method, it's important to understand the values you'll be passing in: \n",
    "1. Congress number is simple. It's the congress session whose data you want to pull. The current congress, which started on January 3rd 2017 is the 115th. \n",
    "2. Industry has a heirarchy to it. The API takes a parameter called \"catorder\", which is a 3 character string of one captial letter and 2 digits. Each catorder lives within a sector and maps to an industry. There are \"catnames\" below the industry signifying more specific. \n",
    "<img src=\"pictures/Sector Map.png\">\n",
    "3. Committee codes can be captured in a separate table"
   ]
  },
  {
   "cell_type": "markdown",
   "metadata": {},
   "source": [
    "There are 18 sectors of varying sizes: "
   ]
  },
  {
   "cell_type": "code",
   "execution_count": 12,
   "metadata": {
    "collapsed": false
   },
   "outputs": [
    {
     "name": "stdout",
     "output_type": "stream",
     "text": [
      "Misc Business            103\n",
      "Ideology/Single-Issue     46\n",
      "Transportation            37\n",
      "Finance/Insur/RealEst     36\n",
      "Communic/Electronics      35\n",
      "Health                    32\n",
      "Energy/Nat Resource       30\n",
      "Labor                     30\n",
      "Agribusiness              30\n",
      "Other                     23\n",
      "Construction              22\n",
      "Defense                    8\n",
      "Lawyers & Lobbyists        6\n",
      "Non-contribution           6\n",
      "Unknown                    5\n",
      "Joint Candidate Cmtes      5\n",
      "Party Cmte                 4\n",
      "Sector                     1\n",
      "Candidate                  1\n",
      "Name: sector, dtype: int64\n"
     ]
    }
   ],
   "source": [
    "path = './data/all_industries.txt'\n",
    "ic_names = ['catcode', 'catname', 'catorder', 'industry', 'sector', 'sector long']\n",
    "industry_codes = pd.read_csv(path, sep='\\t', names=ic_names)\n",
    "print industry_codes.sector.value_counts()"
   ]
  },
  {
   "cell_type": "markdown",
   "metadata": {},
   "source": [
    "There are far more industries: "
   ]
  },
  {
   "cell_type": "code",
   "execution_count": 13,
   "metadata": {
    "collapsed": false
   },
   "outputs": [
    {
     "name": "stdout",
     "output_type": "stream",
     "text": [
      "Misc Manufacturing & Distributing      31\n",
      "Misc Issues                            13\n",
      "Misc Unions                            11\n",
      "Retail Sales                           11\n",
      "Business Services                      10\n",
      "Health Professionals                   10\n",
      "Misc Transport                         10\n",
      "Securities & Investment                 9\n",
      "Air Transport                           9\n",
      "Health Services/HMOs                    9\n",
      "Agricultural Services/Products          9\n",
      "Oil & Gas                               9\n",
      "TV/Movies/Music                         9\n",
      "Misc Services                           9\n",
      "Pharmaceuticals/Health Products         8\n",
      "Real Estate                             8\n",
      "Electronics Mfg & Equip                 8\n",
      "Building Materials & Equipment          7\n",
      "Education                               7\n",
      "Food & Beverage                         7\n",
      "Automotive                              7\n",
      "Misc Finance                            6\n",
      "Industrial Unions                       6\n",
      "Business Associations                   6\n",
      "Transportation Unions                   6\n",
      "Chemical & Related Manufacturing        6\n",
      "Human Rights                            6\n",
      "Foreign & Defense Policy                6\n",
      "Electric Utilities                      6\n",
      "Public Sector Unions                    6\n",
      "                                       ..\n",
      "Democratic/Liberal                      1\n",
      "Women's Issues                          1\n",
      "No Employer Listed or Found             1\n",
      "Abortion Policy/Anti-Abortion           1\n",
      "Poultry & Eggs                          1\n",
      "Dairy                                   1\n",
      "Misc Health                             1\n",
      "Environment                             1\n",
      "Unknown                                 1\n",
      "Savings & Loans                         1\n",
      "Misc Communications/Electronics         1\n",
      "Credit Unions                           1\n",
      "Defense Aerospace                       1\n",
      "Misc Agriculture                        1\n",
      "Defense Electronics                     1\n",
      "Marijuana                               1\n",
      "Generic Occupation/Category Unknown     1\n",
      "Textiles                                1\n",
      "Candidate Self-finance                  1\n",
      "Environmental Svcs/Equipment            1\n",
      "Clergy & Religious Organizations        1\n",
      "Industry                                1\n",
      "Waste Management                        1\n",
      "Tobacco                                 1\n",
      "Party Committee Transfer                1\n",
      "Abortion Policy/Pro-Abortion Rights     1\n",
      "Homemakers/Non-income earners           1\n",
      "Pro-Israel                              1\n",
      "Accountants                             1\n",
      "Employer Listed/Category Unknown        1\n",
      "Name: industry, dtype: int64\n"
     ]
    }
   ],
   "source": [
    "print industry_codes.industry.value_counts()"
   ]
  },
  {
   "cell_type": "markdown",
   "metadata": {},
   "source": [
    "Let's look at this for a single industry's contributions to a single committee in a single congress: the Tobacco industry's contribution to the House Committee in the 114th congress. The tobacco industry contributed $97,518 to this single committee in this single congress. That gets divided between individual contribution and contributions to PACs. 48 percent of that money goes to the top 4 (out of 22 returned) committee members. \n",
    "<img src=\"pictures/Tobacco to House Agriculture.png\">\n"
   ]
  },
  {
   "cell_type": "markdown",
   "metadata": {},
   "source": [
    "198 bills moved through this committee during the 114th congress. 16 of these passed the House, and 9 were enacted. 0 of these enacted bills appeared to have the word \"tobacco\" included in their text. However, 7 unpassed bills in this committee did contain the word \"tobacco\". In light of Monday's class, I'd like to use natural language processing to parse these bills to see if their opinion on tobacco were positive or negative as a next step. This will allow me to establish whether the bill was positive or negative for the industry and therefore, whether lobbyists would have been paying for the passing of the bill or the killing of it.  "
   ]
  },
  {
   "cell_type": "markdown",
   "metadata": {},
   "source": [
    "**Choosing the features for analysis**\n",
    "\n",
    "The main features for analysis currently are details about legislation (sponsors, co-sponsors, enaction status, etc.) and details about lobbying dollars (companies the dollars come from, committees the dollars went to, amount of funding, etc.). Currently I believe these are the features that will end up being the most predictive. \n",
    "\n",
    "The prediction (Y) is a dollar amount an industry has to lobby to give X% of a bill passing. "
   ]
  },
  {
   "cell_type": "markdown",
   "metadata": {},
   "source": [
    "**Details of the modeling process**\n",
    "\n",
    "Currently still working on the modelling process..."
   ]
  },
  {
   "cell_type": "markdown",
   "metadata": {},
   "source": [
    "**Challenges**\n",
    "\n",
    "The biggest challenges so far: \n",
    "1. Not all committee members are returned by the Open Secrets API. This doesn't make sense because the API will return an object for congresspeople that had $0 contributed to them. I need to figure out why. \n",
    "2. It's a lot easier to measure industries that give a whole bunch of money to get a bill passed than industries that give money kill a bill. This is because bills can be killed in so many ways that aren't recorded. For instance, the House and the Senate can choose to simply not have a vote on a bill to kill it. This leaves behind no voting record to parse. This often happens when the votes aren't there to get the measure passed. \n",
    "3. Scope. I would need to apply natural language processing a bill to adequately parse out what a bill is about because a lot of bills have very general names like the \"Agriculture Reauthorization Act of 2015\". Running these processes on all bills in just a single committee would be very resource intensive. Running them for all bills in congress would be infeasible. This means I have to make some decisions on what committees to choose. \n",
    "4. Figuring out lobbying dollars spent on particular bills is still a challenge. I'm investigating better ways to find this link. \n",
    "5. Bill mortality rates are very high. "
   ]
  },
  {
   "cell_type": "markdown",
   "metadata": {},
   "source": [
    "**Possible extensions or business applications of your project**\n",
    "\n",
    "There are a few business extensions for this project. This would obviously be useful for lobbyist entities themselves, but I'm more interested in applications around public dissemination of lobbyist information. It would be really good for constituents to understand that $50,000 for a tobacco initiative has the potential to sway a public health vote and has X number of times in the past. As for extensions, I can always redo the same analysis on additional congressional committees. "
   ]
  },
  {
   "cell_type": "markdown",
   "metadata": {},
   "source": [
    "**Conclusions and key learnings**\n",
    "\n",
    "Currently still working on conclusions and key learnings..."
   ]
  }
 ],
 "metadata": {
  "kernelspec": {
   "display_name": "Python 2",
   "language": "python",
   "name": "python2"
  },
  "language_info": {
   "codemirror_mode": {
    "name": "ipython",
    "version": 2
   },
   "file_extension": ".py",
   "mimetype": "text/x-python",
   "name": "python",
   "nbconvert_exporter": "python",
   "pygments_lexer": "ipython2",
   "version": "2.7.13"
  }
 },
 "nbformat": 4,
 "nbformat_minor": 2
}
