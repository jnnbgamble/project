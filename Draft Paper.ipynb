{
 "cells": [
  {
   "cell_type": "markdown",
   "metadata": {},
   "source": [
    "# Draft Paper"
   ]
  },
  {
   "cell_type": "code",
   "execution_count": 1,
   "metadata": {
    "collapsed": true
   },
   "outputs": [],
   "source": [
    "import requests \n",
    "import pandas as pd "
   ]
  },
  {
   "cell_type": "markdown",
   "metadata": {},
   "source": [
    "**Problem statement and hypothesis**\n",
    "\n",
    "My problem is..."
   ]
  },
  {
   "cell_type": "markdown",
   "metadata": {},
   "source": [
    "**Description of dataset and how it was obtained**\n",
    "\n",
    "Dataset details... "
   ]
  },
  {
   "cell_type": "markdown",
   "metadata": {},
   "source": [
    "**Description of pre-processing**\n",
    "\n",
    "Details..."
   ]
  },
  {
   "cell_type": "markdown",
   "metadata": {},
   "source": [
    "**Details learned from exploring the data**\n",
    "\n",
    "OpenSecrets has an API that allows a user to make a number of different calls into the OpenSecrets database. First I investigated the `congCmteIndus` method, which pulls summary fundraising information by committee, industry, and congress number. \n",
    "\n",
    "In order to make calls using this method, it's important to understand the values you'll be passing in: \n",
    "1. Congress number is simple. It's the congress session whose data you want to pull. The current congress, which started on January 3rd 2017 is the 115th. \n",
    "2. Industry has a heirarchy to it. The API takes a parameter called \"catorder\", which is a 3 character string of one captial letter and 2 digits. Each catorder lives within a sector and maps to an industry. There are \"catnames\" below the industry signifying more specific. \n",
    "<img src=\"./pictures/Sector Map.png\">\n",
    "3. Committee codes can be captured in a separate table"
   ]
  },
  {
   "cell_type": "markdown",
   "metadata": {},
   "source": [
    "There are 18 sectors of varying sizes: "
   ]
  },
  {
   "cell_type": "code",
   "execution_count": 4,
   "metadata": {
    "collapsed": false
   },
   "outputs": [
    {
     "name": "stdout",
     "output_type": "stream",
     "text": [
      "Misc Business            103\n",
      "Ideology/Single-Issue     46\n",
      "Transportation            37\n",
      "Finance/Insur/RealEst     36\n",
      "Communic/Electronics      35\n",
      "Health                    32\n",
      "Energy/Nat Resource       30\n",
      "Labor                     30\n",
      "Agribusiness              30\n",
      "Other                     23\n",
      "Construction              22\n",
      "Defense                    8\n",
      "Lawyers & Lobbyists        6\n",
      "Non-contribution           6\n",
      "Unknown                    5\n",
      "Joint Candidate Cmtes      5\n",
      "Party Cmte                 4\n",
      "Sector                     1\n",
      "Candidate                  1\n",
      "Name: sector, dtype: int64\n"
     ]
    }
   ],
   "source": [
    "path = './data/all_industries.txt'\n",
    "ic_names = ['catcode', 'catname', 'catorder', 'industry', 'sector', 'sector long']\n",
    "industry_codes = pd.read_csv(path, sep='\\t', names=ic_names)\n",
    "print industry_codes.sector.value_counts()"
   ]
  },
  {
   "cell_type": "markdown",
   "metadata": {},
   "source": [
    "There are far more industries: "
   ]
  },
  {
   "cell_type": "code",
   "execution_count": 5,
   "metadata": {
    "collapsed": false
   },
   "outputs": [
    {
     "name": "stdout",
     "output_type": "stream",
     "text": [
      "Misc Manufacturing & Distributing      31\n",
      "Misc Issues                            13\n",
      "Misc Unions                            11\n",
      "Retail Sales                           11\n",
      "Business Services                      10\n",
      "Health Professionals                   10\n",
      "Misc Transport                         10\n",
      "Securities & Investment                 9\n",
      "Air Transport                           9\n",
      "Health Services/HMOs                    9\n",
      "Agricultural Services/Products          9\n",
      "Oil & Gas                               9\n",
      "TV/Movies/Music                         9\n",
      "Misc Services                           9\n",
      "Pharmaceuticals/Health Products         8\n",
      "Real Estate                             8\n",
      "Electronics Mfg & Equip                 8\n",
      "Building Materials & Equipment          7\n",
      "Education                               7\n",
      "Food & Beverage                         7\n",
      "Automotive                              7\n",
      "Misc Finance                            6\n",
      "Industrial Unions                       6\n",
      "Business Associations                   6\n",
      "Transportation Unions                   6\n",
      "Chemical & Related Manufacturing        6\n",
      "Human Rights                            6\n",
      "Foreign & Defense Policy                6\n",
      "Electric Utilities                      6\n",
      "Public Sector Unions                    6\n",
      "                                       ..\n",
      "Democratic/Liberal                      1\n",
      "Women's Issues                          1\n",
      "No Employer Listed or Found             1\n",
      "Abortion Policy/Anti-Abortion           1\n",
      "Poultry & Eggs                          1\n",
      "Dairy                                   1\n",
      "Misc Health                             1\n",
      "Environment                             1\n",
      "Unknown                                 1\n",
      "Savings & Loans                         1\n",
      "Misc Communications/Electronics         1\n",
      "Credit Unions                           1\n",
      "Defense Aerospace                       1\n",
      "Misc Agriculture                        1\n",
      "Defense Electronics                     1\n",
      "Marijuana                               1\n",
      "Generic Occupation/Category Unknown     1\n",
      "Textiles                                1\n",
      "Candidate Self-finance                  1\n",
      "Environmental Svcs/Equipment            1\n",
      "Clergy & Religious Organizations        1\n",
      "Industry                                1\n",
      "Waste Management                        1\n",
      "Tobacco                                 1\n",
      "Party Committee Transfer                1\n",
      "Abortion Policy/Pro-Abortion Rights     1\n",
      "Homemakers/Non-income earners           1\n",
      "Pro-Israel                              1\n",
      "Accountants                             1\n",
      "Employer Listed/Category Unknown        1\n",
      "Name: industry, dtype: int64\n"
     ]
    }
   ],
   "source": [
    "print industry_codes.industry.value_counts()"
   ]
  },
  {
   "cell_type": "markdown",
   "metadata": {},
   "source": [
    "**Choosing the features for analysis**\n",
    "\n",
    "Details..."
   ]
  },
  {
   "cell_type": "markdown",
   "metadata": {},
   "source": [
    "**Details of the modeling process**\n",
    "\n",
    "Details..."
   ]
  },
  {
   "cell_type": "markdown",
   "metadata": {},
   "source": [
    "**Challenges and successes**\n",
    "\n",
    "Details..."
   ]
  },
  {
   "cell_type": "markdown",
   "metadata": {},
   "source": [
    "**Possible extensions or business applications of your project**\n",
    "\n",
    "Details..."
   ]
  },
  {
   "cell_type": "markdown",
   "metadata": {},
   "source": [
    "**Conclusions and key learnings**\n",
    "\n",
    "Details..."
   ]
  },
  {
   "cell_type": "code",
   "execution_count": null,
   "metadata": {
    "collapsed": true
   },
   "outputs": [],
   "source": []
  }
 ],
 "metadata": {
  "kernelspec": {
   "display_name": "Python 2",
   "language": "python",
   "name": "python2"
  },
  "language_info": {
   "codemirror_mode": {
    "name": "ipython",
    "version": 2
   },
   "file_extension": ".py",
   "mimetype": "text/x-python",
   "name": "python",
   "nbconvert_exporter": "python",
   "pygments_lexer": "ipython2",
   "version": "2.7.13"
  }
 },
 "nbformat": 4,
 "nbformat_minor": 2
}
